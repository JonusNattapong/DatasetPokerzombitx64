{
 "cells": [
  {
   "cell_type": "code",
   "execution_count": null,
   "metadata": {
    "vscode": {
     "languageId": "plaintext"
    }
   },
   "outputs": [],
   "source": [
    "import pandas as pd\n",
    "from poker_ml.data.loader import PokerDataLoader\n",
    "\n",
    "# Load data\n",
    "data_loader = PokerDataLoader()\n",
    "df = data_loader.load_hand_data()\n",
    "df.head()"
   ]
  },
  {
   "cell_type": "code",
   "execution_count": null,
   "metadata": {
    "vscode": {
     "languageId": "plaintext"
    }
   },
   "outputs": [],
   "source": [
    "from poker_ml.features.feature_generator import PokerFeatureGenerator\n",
    "\n",
    "# Generate features\n",
    "feature_gen = PokerFeatureGenerator()\n",
    "X, y = feature_gen.transform(df)\n",
    "X.shape, y.shape"
   ]
  },
  {
   "cell_type": "code",
   "execution_count": null,
   "metadata": {
    "vscode": {
     "languageId": "plaintext"
    }
   },
   "outputs": [],
   "source": [
    "from poker_ml.models.nn_model import PokerActionNN\n",
    "from poker_ml.models.xgb_model import PokerActionXGB\n",
    "from poker_ml.models.ensemble import EnsembleModel\n",
    "\n",
    "# Split data\n",
    "from sklearn.model_selection import train_test_split\n",
    "X_train, X_test, y_train, y_test = train_test_split(X, y, test_size=0.3, random_state=42)\n",
    "\n",
    "# Define models\n",
    "nn_model = PokerActionNN(input_dim=X_train.shape[1])\n",
    "xgb_model = PokerActionXGB()\n",
    "ensemble = EnsembleModel([nn_model, xgb_model], weights=[0.6, 0.4])\n",
    "\n",
    "# Train models\n",
    "ensemble.train(X_train, y_train)"
   ]
  },
  {
   "cell_type": "code",
   "execution_count": null,
   "metadata": {
    "vscode": {
     "languageId": "plaintext"
    }
   },
   "outputs": [],
   "source": [
    "metrics = ensemble.evaluate(X_test, y_test)\n",
    "print(f\"Ensemble model accuracy: {metrics['accuracy']:.2f}\")"
   ]
  },
  {
   "cell_type": "code",
   "execution_count": null,
   "metadata": {
    "vscode": {
     "languageId": "plaintext"
    }
   },
   "outputs": [],
   "source": [
    "predictions = ensemble.predict(X_test)\n",
    "predictions"
   ]
  }
 ],
 "metadata": {
  "language_info": {
   "name": "python"
  }
 },
 "nbformat": 4,
 "nbformat_minor": 2
}
